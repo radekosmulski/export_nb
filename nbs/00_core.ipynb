{
 "cells": [
  {
   "cell_type": "markdown",
   "metadata": {},
   "source": [
    "# core\n",
    "\n",
    "> Fill in a module description here"
   ]
  },
  {
   "cell_type": "code",
   "execution_count": null,
   "metadata": {},
   "outputs": [],
   "source": [
    "#| default_exp core"
   ]
  },
  {
   "cell_type": "code",
   "execution_count": null,
   "metadata": {},
   "outputs": [],
   "source": [
    "#|export\n",
    "\n",
    "import ast\n",
    "from execnb.nbio import *\n",
    "from execnb.shell import *\n",
    "from fastcore.utils import *\n",
    "from fastcore.script import *\n",
    "from pathlib import Path"
   ]
  },
  {
   "cell_type": "markdown",
   "metadata": {},
   "source": [
    "The code here is based on functionality and code from [nbdev](https://github.com/AnswerDotAI/nbdev/tree/main).\n",
    "\n",
    "For a full-fledged library creator, visit [nbdev](https://github.com/AnswerDotAI/nbdev/tree/main)!\n",
    "\n",
    "This is just a tiny portion of the functionality, but just what I need for small pieces of code here and there (especially on remote machines)."
   ]
  },
  {
   "cell_type": "code",
   "execution_count": null,
   "metadata": {},
   "outputs": [
    {
     "name": "stdout",
     "output_type": "stream",
     "text": [
      "Overwriting example.ipynb\n"
     ]
    }
   ],
   "source": [
    "%%writefile example.ipynb\n",
    "{\n",
    " \"cells\": [\n",
    "  {\n",
    "   \"cell_type\": \"code\",\n",
    "   \"execution_count\": 1,\n",
    "   \"id\": \"31bebeca-a013-4905-89d9-54e01586f70f\",\n",
    "   \"metadata\": {},\n",
    "   \"outputs\": [\n",
    "    {\n",
    "     \"data\": {\n",
    "      \"text/plain\": [\n",
    "       \"4\"\n",
    "      ]\n",
    "     },\n",
    "     \"execution_count\": 1,\n",
    "     \"metadata\": {},\n",
    "     \"output_type\": \"execute_result\"\n",
    "    }\n",
    "   ],\n",
    "   \"source\": [\n",
    "    \"2+2\"\n",
    "   ]\n",
    "  },\n",
    "  {\n",
    "   \"cell_type\": \"code\",\n",
    "   \"execution_count\": 3,\n",
    "   \"id\": \"5d3b74e6-ceb0-45b7-bc61-9e2047c3712a\",\n",
    "   \"metadata\": {},\n",
    "   \"outputs\": [],\n",
    "   \"source\": [\n",
    "    \"#|export\\n\",\n",
    "    \"def hello_world():\\n\",\n",
    "    \"    print('Hello, world!')\"\n",
    "   ]\n",
    "  },\n",
    "  {\n",
    "   \"cell_type\": \"markdown\",\n",
    "   \"id\": \"b8897db9-ea21-406e-9998-5d049202e3f3\",\n",
    "   \"metadata\": {},\n",
    "   \"source\": [\n",
    "    \"Markdown cell.\"\n",
    "   ]\n",
    "  }\n",
    " ],\n",
    " \"metadata\": {\n",
    "  \"kernelspec\": {\n",
    "   \"display_name\": \"Python 3 (ipykernel)\",\n",
    "   \"language\": \"python\",\n",
    "   \"name\": \"python3\"\n",
    "  },\n",
    "  \"language_info\": {\n",
    "   \"codemirror_mode\": {\n",
    "    \"name\": \"ipython\",\n",
    "    \"version\": 3\n",
    "   },\n",
    "   \"file_extension\": \".py\",\n",
    "   \"mimetype\": \"text/x-python\",\n",
    "   \"name\": \"python\",\n",
    "   \"nbconvert_exporter\": \"python\",\n",
    "   \"pygments_lexer\": \"ipython3\",\n",
    "   \"version\": \"3.12.8\"\n",
    "  }\n",
    " },\n",
    " \"nbformat\": 4,\n",
    " \"nbformat_minor\": 5\n",
    "}"
   ]
  },
  {
   "cell_type": "code",
   "execution_count": null,
   "metadata": {},
   "outputs": [],
   "source": [
    "nb_str = '{\\n \"cells\": [\\n  {\\n   \"cell_type\": \"code\",\\n   \"execution_count\": null,\\n   \"id\": \"31bebeca-a013-4905-89d9-54e01586f70f\",\\n   \"metadata\": {},\\n   \"outputs\": [],\\n   \"source\": []\\n  }\\n ],\\n \"metadata\": {\\n  \"kernelspec\": {\\n   \"display_name\": \"\",\\n   \"name\": \"\"\\n  },\\n  \"language_info\": {\\n   \"name\": \"\"\\n  }\\n },\\n \"nbformat\": 4,\\n \"nbformat_minor\": 5\\n}\\n'\n",
    "\n",
    "import codecs\n",
    "\n",
    "with open('example.ipynb', 'w') as f:\n",
    "    decoded_text = codecs.decode(repr(nb_str)[1:-1], 'unicode_escape')\n",
    "    f.write(decoded_text)"
   ]
  },
  {
   "cell_type": "code",
   "execution_count": null,
   "metadata": {},
   "outputs": [],
   "source": [
    "#|export\n",
    "\n",
    "def strip_directives(text):\n",
    "    # Split the text into lines and keep only lines that don't start with '#|'\n",
    "    return '\\n'.join(line for line in text.splitlines() if not line.strip().startswith('#|'))\n",
    "\n",
    "def write_cells(cells, file):\n",
    "    \"Write `cells` to `file`.\"\n",
    "    for cell in cells:\n",
    "        if cell.cell_type=='code' and cell.source.strip():\n",
    "            file.write(f'{strip_directives(cell.source)}')\n",
    "\n",
    "@call_parse\n",
    "def export_nb(file_name:str):\n",
    "    \"Export notebook with `file_name` to .py\"\n",
    "    fpath = Path(file_name)\n",
    "    nb = read_nb(fpath)\n",
    "    \n",
    "    # grab the source from all the cells that have an `export` comment\n",
    "    cells = L(cell for cell in nb.cells if re.match(r'#\\s*\\|export', cell.source))\n",
    "\n",
    "    # find all the exported functions, to create `__all__`:\n",
    "    trees = cells.map(NbCell.parsed_).concat()\n",
    "    funcs = trees.filter(risinstance((ast.FunctionDef,ast.ClassDef))).attrgot('name')\n",
    "    exp_funcs = [f for f in funcs if f[0]!='_']\n",
    "\n",
    "    # write out the file\n",
    "    with Path(f'{fpath.stem}.py').open('w',encoding=\"utf-8\") as f:\n",
    "        dest = '.'\n",
    "        f.write(f\"# Export from notebook: {fpath}\\n\\n\")\n",
    "        f.write(f\"__all__ = {exp_funcs}\\n\\n\")\n",
    "        write_cells(cells, f)\n",
    "        f.write('\\n')"
   ]
  },
  {
   "cell_type": "code",
   "execution_count": null,
   "metadata": {},
   "outputs": [],
   "source": [
    "export_nb('example.ipynb')"
   ]
  },
  {
   "cell_type": "code",
   "execution_count": null,
   "metadata": {},
   "outputs": [
    {
     "name": "stdout",
     "output_type": "stream",
     "text": [
      "# Export from notebook: example.ipynb\n",
      "\n",
      "__all__ = []\n",
      "\n",
      "\n"
     ]
    }
   ],
   "source": [
    "cat example.py"
   ]
  },
  {
   "cell_type": "code",
   "execution_count": null,
   "metadata": {},
   "outputs": [],
   "source": [
    "!rm example.ipynb example.py"
   ]
  },
  {
   "cell_type": "code",
   "execution_count": null,
   "metadata": {},
   "outputs": [],
   "source": [
    "#| hide\n",
    "from nbdev.showdoc import *"
   ]
  },
  {
   "cell_type": "code",
   "execution_count": null,
   "metadata": {},
   "outputs": [],
   "source": [
    "#| hide\n",
    "import nbdev; nbdev.nbdev_export()"
   ]
  }
 ],
 "metadata": {
  "kernelspec": {
   "display_name": "python3",
   "language": "python",
   "name": "python3"
  }
 },
 "nbformat": 4,
 "nbformat_minor": 4
}
